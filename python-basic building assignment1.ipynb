{
 "cells": [
  {
   "cell_type": "markdown",
   "id": "c13f9e0d-364b-45f9-8c38-5c561a753677",
   "metadata": {},
   "source": [
    "1.(i) name = \"subhajit\"\n",
    "  (ii) item_no = [1,2,4,5,]\n",
    "  (iii) cost_price=455.67\n",
    "  (iv)subject=(\"mathematics\",\"physics\",\"english\")"
   ]
  },
  {
   "cell_type": "markdown",
   "id": "37191ad5-aa08-4c77-b3bd-b19f5aa4b908",
   "metadata": {},
   "source": [
    "2.(i)it is not any data type\n",
    "  (ii)it is not any data type\n",
    "  (iii)it is not any data type\n",
    "  (iv)float type"
   ]
  },
  {
   "cell_type": "markdown",
   "id": "dc650ced-29a1-4000-a3bc-d97a008d4e8e",
   "metadata": {},
   "source": [
    " 3. (i)Division\n",
    "    (ii)Modulus\n",
    "    (iii)Floor Division\n",
    "    (iv)Exponent\n"
   ]
  },
  {
   "cell_type": "code",
   "execution_count": null,
   "id": "671c0ffc-d8ea-4565-811a-aee8ec4395c5",
   "metadata": {},
   "outputs": [],
   "source": [
    "4.student_details=[\"amal_senapati\",\"mechanical\",\"Bishnupur\",\"Bankura\",722122,9800722122,67.8,True,\"mit\",\"pratap_senapati\"]\n",
    "for i in student_details:\n",
    "    print(i,type(i))"
   ]
  },
  {
   "cell_type": "code",
   "execution_count": null,
   "id": "92fc0326-73e9-4ca8-ab7b-ffdff66bc74a",
   "metadata": {},
   "outputs": [],
   "source": [
    "5.i=1\n",
    "while i<100 :\n",
    "    if i%10==0:\n",
    "        print(i)\n",
    "    i=i+1"
   ]
  },
  {
   "cell_type": "code",
   "execution_count": null,
   "id": "79cb905b-e91e-4433-90b3-69bd7aba72ab",
   "metadata": {},
   "outputs": [],
   "source": [
    "6)li=[1,2,3,4,5,6,7,8,9,10,11,12,13,14,15,16,17,18,19,20,21,22,23,24,25]\n",
    "for i in li:\n",
    "    if i %3==0:\n",
    "        print(i,\"that number is multiple of 3\")\n",
    "    else :\n",
    "        print(i,\"that number is not multiple of 3\")"
   ]
  },
  {
   "cell_type": "markdown",
   "id": "55eb9d48-9481-45f4-a4f6-3e920876b75e",
   "metadata": {},
   "source": [
    "7)Mutable:which object allow to change their value without affecting the object's identity.Example List,Sets,and Dictionary.\n",
    "\n",
    "immutable : immutabale object donot allow to change their any kind of value . example tuple,\n"
   ]
  }
 ],
 "metadata": {
  "kernelspec": {
   "display_name": "Python 3 (ipykernel)",
   "language": "python",
   "name": "python3"
  },
  "language_info": {
   "codemirror_mode": {
    "name": "ipython",
    "version": 3
   },
   "file_extension": ".py",
   "mimetype": "text/x-python",
   "name": "python",
   "nbconvert_exporter": "python",
   "pygments_lexer": "ipython3",
   "version": "3.10.8"
  }
 },
 "nbformat": 4,
 "nbformat_minor": 5
}
